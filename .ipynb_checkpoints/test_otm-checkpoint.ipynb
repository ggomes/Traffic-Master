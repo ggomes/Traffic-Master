{
 "cells": [
  {
   "cell_type": "code",
   "execution_count": 21,
   "metadata": {},
   "outputs": [
    {
     "name": "stdout",
     "output_type": "stream",
     "text": [
      "44\n"
     ]
    }
   ],
   "source": [
    "from __future__ import division\n",
    "import os\n",
    "import inspect\n",
    "import sys\n",
    "this_folder = os.path.dirname(os.path.abspath(inspect.getfile(inspect.currentframe())))\n",
    "sys.path.insert(0,'this_folder')\n",
    "from Java_Connection import Java_Connection\n",
    "import numpy as np\n",
    "import time\n",
    "import matplotlib.pyplot as plt\n",
    "import csv\n",
    "\n",
    "conn = Java_Connection()\n",
    "\n",
    "if conn.pid is not None:\n",
    "    sim_dt = 2.0\n",
    "\n",
    "    this_folder = os.path.dirname(os.path.abspath(inspect.getfile(inspect.currentframe())))\n",
    "    root_folder = os.path.dirname(this_folder)\n",
    "    configfile = os.path.join(this_folder, 'XML files', 'Capstone_0314.xml')\n",
    "\n",
    "    otm_api = conn.gateway.entry_point.get_OTM_API()\n",
    "    otm_api.load(configfile)\n",
    "\n",
    "    print(otm_api.get_num_links())\n",
    "\n",
    "    # kill jvm\n",
    "    conn.close()"
   ]
  },
  {
   "cell_type": "code",
   "execution_count": 18,
   "metadata": {},
   "outputs": [
    {
     "name": "stdout",
     "output_type": "stream",
     "text": [
      "C:\\Users\\allen\\OneDrive\\Documents\\GitHub\\Traffic-Master\n"
     ]
    }
   ],
   "source": [
    "print(os.path.dirname(os.path.abspath(inspect.getfile(inspect.currentframe()))))"
   ]
  }
 ],
 "metadata": {
  "kernelspec": {
   "display_name": "Python 3",
   "language": "python",
   "name": "python3"
  },
  "language_info": {
   "codemirror_mode": {
    "name": "ipython",
    "version": 3
   },
   "file_extension": ".py",
   "mimetype": "text/x-python",
   "name": "python",
   "nbconvert_exporter": "python",
   "pygments_lexer": "ipython3",
   "version": "3.7.1"
  }
 },
 "nbformat": 4,
 "nbformat_minor": 2
}
